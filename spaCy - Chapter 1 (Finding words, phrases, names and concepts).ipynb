{
 "cells": [
  {
   "cell_type": "code",
   "execution_count": 40,
   "metadata": {},
   "outputs": [
    {
     "name": "stdout",
     "output_type": "stream",
     "text": [
      "this is title , This Is Title\n"
     ]
    }
   ],
   "source": [
    "txt = \"this is title\"\n",
    "Txt = txt.title()\n",
    "print(txt,\",\", Txt)"
   ]
  },
  {
   "cell_type": "code",
   "execution_count": 45,
   "metadata": {},
   "outputs": [
    {
     "name": "stdout",
     "output_type": "stream",
     "text": [
      "this False\n",
      "is False\n",
      "title False\n",
      "This True\n",
      "Is True\n",
      "Title True\n"
     ]
    }
   ],
   "source": [
    "doc = nlp(txt)\n",
    "for tok in doc:\n",
    "    print(tok, tok.is_title)\n",
    "    \n",
    "doc2 = nlp(Txt)\n",
    "for tok in doc2:\n",
    "    print(tok, tok.is_title)"
   ]
  },
  {
   "cell_type": "markdown",
   "metadata": {},
   "source": [
    "# 1. Introductino to spaCy"
   ]
  },
  {
   "cell_type": "markdown",
   "metadata": {},
   "source": [
    "### The nlp object"
   ]
  },
  {
   "cell_type": "code",
   "execution_count": 41,
   "metadata": {},
   "outputs": [],
   "source": [
    "# Import the English language class\n",
    "from spacy.lang.en import English\n",
    "\n",
    "# Create the nlp object\n",
    "nlp = English()"
   ]
  },
  {
   "cell_type": "markdown",
   "metadata": {},
   "source": [
    "### The Doc object"
   ]
  },
  {
   "cell_type": "code",
   "execution_count": 3,
   "metadata": {},
   "outputs": [
    {
     "name": "stdout",
     "output_type": "stream",
     "text": [
      "Hello Hello\n",
      "world world\n",
      "! !\n"
     ]
    }
   ],
   "source": [
    "# Created by processing a string of text with the nlp object\n",
    "doc = nlp(\"Hello world!\")\n",
    "\n",
    "# Iterate over tokens in a Doc\n",
    "for token in doc:\n",
    "    print(token.text, token)"
   ]
  },
  {
   "cell_type": "markdown",
   "metadata": {},
   "source": [
    "### The Token object"
   ]
  },
  {
   "cell_type": "code",
   "execution_count": 3,
   "metadata": {},
   "outputs": [
    {
     "name": "stdout",
     "output_type": "stream",
     "text": [
      "world world\n"
     ]
    }
   ],
   "source": [
    "# Index into the Doc to get a single Tooekn\n",
    "token = doc[1]\n",
    "\n",
    "# Get the token text via the .text attribute\n",
    "print(token, token.text)"
   ]
  },
  {
   "cell_type": "markdown",
   "metadata": {},
   "source": [
    "### The Span object"
   ]
  },
  {
   "cell_type": "code",
   "execution_count": 4,
   "metadata": {},
   "outputs": [
    {
     "name": "stdout",
     "output_type": "stream",
     "text": [
      "world! world!\n"
     ]
    }
   ],
   "source": [
    "# A slice from the Doc is a Span object\n",
    "span = doc[1:4] # just a view!\n",
    "print(span.text, span)"
   ]
  },
  {
   "cell_type": "markdown",
   "metadata": {},
   "source": [
    "### Lexical Attributes"
   ]
  },
  {
   "cell_type": "code",
   "execution_count": 5,
   "metadata": {},
   "outputs": [
    {
     "name": "stdout",
     "output_type": "stream",
     "text": [
      "Index   :  [0, 1, 2, 3, 4]\n",
      "Text    :  ['It', 'costs', '$', '5', '.']\n",
      "is_alpha:  [True, True, False, False, False]\n",
      "is_punct:  [False, False, False, False, True]\n",
      "like_num:  [False, False, False, True, False]\n"
     ]
    }
   ],
   "source": [
    "doc = nlp(\"It costs $5.\")\n",
    "print('Index   : ', [token.i for token in doc])\n",
    "print('Text    : ', [token.text for token in doc])\n",
    "print('is_alpha: ', [token.is_alpha for token in doc])\n",
    "print('is_punct: ', [token.is_punct for token in doc])\n",
    "print('like_num: ', [token.like_num for token in doc])"
   ]
  },
  {
   "cell_type": "code",
   "execution_count": 5,
   "metadata": {},
   "outputs": [],
   "source": [
    "# IS_STOP : is a stop word >> 너무 자주 등장하여 학습에 방해되는 a an the for 등을 제거"
   ]
  },
  {
   "cell_type": "code",
   "execution_count": 16,
   "metadata": {},
   "outputs": [
    {
     "name": "stdout",
     "output_type": "stream",
     "text": [
      "he False False\n",
      "said False False\n",
      ", False False\n",
      "' True True\n",
      "( True False\n",
      "I False False\n",
      "love False False\n",
      "you False False\n",
      ". False False\n",
      ") False True\n",
      "' True True\n"
     ]
    }
   ],
   "source": [
    "ttt =  \"he said, '(I love you.)'\"\n",
    "doc = nlp(ttt)\n",
    "for i in range(len(doc)):\n",
    "    print(doc[i], doc[i].is_left_punct,doc[i].is_right_punct)"
   ]
  },
  {
   "cell_type": "code",
   "execution_count": 6,
   "metadata": {},
   "outputs": [
    {
     "name": "stdout",
     "output_type": "stream",
     "text": [
      "True\n"
     ]
    }
   ],
   "source": [
    "for token in nlp('ten'):print(token.like_num)"
   ]
  },
  {
   "cell_type": "code",
   "execution_count": 7,
   "metadata": {},
   "outputs": [],
   "source": [
    "doc =nlp(\"Ralph Neville (or Ralf Nevill, died 1244) was a medieval clergyman and politician who served as Bishop of Chichester and Lord Chancellor of England. Neville first appears in the historical record in 1207 in the service of King John, and remained in royal service throughout the rest of his life. By 1213 Neville had custody of the Great Seal of England, although he was not named chancellor, the office responsible for the seal, until 1226. He was rewarded with the bishopric of Chichester in 1222. Although he was also briefly Archbishop-elect of Canterbury and Bishop-elect of Winchester, both elections were set aside, or quashed, and he held neither office.\\\n",
    "As keeper of the seal, and subsequently as chancellor, Neville was noted for his impartiality, and he oversaw a number of changes in the way the chancery operated. Neville was deprived of the Great Seal in 1238 after quarrelling with the king, but continued to hold the title of chancellor until his death. He died in his London palace, built on a street later renamed Chancery Lane owing to his connection with the chancery.\")"
   ]
  },
  {
   "cell_type": "code",
   "execution_count": 18,
   "metadata": {},
   "outputs": [
    {
     "name": "stdout",
     "output_type": "stream",
     "text": [
      "               Ralph,  True, False\n",
      "             Neville,  True, False\n",
      "                   (, False, False\n",
      "                  or,  True, False\n",
      "                Ralf,  True, False\n",
      "              Nevill,  True, False\n",
      "                   ,, False, False\n",
      "                died,  True, False\n",
      "                1244, False,  True\n",
      "                   ), False, False\n",
      "                 was,  True, False\n",
      "                   a,  True, False\n",
      "            medieval,  True, False\n",
      "           clergyman,  True, False\n",
      "                 and,  True, False\n",
      "          politician,  True, False\n",
      "                 who,  True, False\n",
      "              served,  True, False\n",
      "                  as,  True, False\n",
      "              Bishop,  True, False\n",
      "                  of,  True, False\n",
      "          Chichester,  True, False\n",
      "                 and,  True, False\n",
      "                Lord,  True, False\n",
      "          Chancellor,  True, False\n",
      "                  of,  True, False\n",
      "             England,  True, False\n",
      "                   ., False, False\n",
      "             Neville,  True, False\n",
      "               first,  True, False\n",
      "             appears,  True, False\n",
      "                  in,  True, False\n",
      "                 the,  True, False\n",
      "          historical,  True, False\n",
      "              record,  True, False\n",
      "                  in,  True, False\n",
      "                1207, False,  True\n",
      "                  in,  True, False\n",
      "                 the,  True, False\n",
      "             service,  True, False\n",
      "                  of,  True, False\n",
      "                King,  True, False\n",
      "                John,  True, False\n",
      "                   ,, False, False\n",
      "                 and,  True, False\n",
      "            remained,  True, False\n",
      "                  in,  True, False\n",
      "               royal,  True, False\n",
      "             service,  True, False\n",
      "          throughout,  True, False\n",
      "                 the,  True, False\n",
      "                rest,  True, False\n",
      "                  of,  True, False\n",
      "                 his,  True, False\n",
      "                life,  True, False\n",
      "                   ., False, False\n",
      "                  By,  True, False\n",
      "                1213, False,  True\n",
      "             Neville,  True, False\n",
      "                 had,  True, False\n",
      "             custody,  True, False\n",
      "                  of,  True, False\n",
      "                 the,  True, False\n",
      "               Great,  True, False\n",
      "                Seal,  True, False\n",
      "                  of,  True, False\n",
      "             England,  True, False\n",
      "                   ,, False, False\n",
      "            although,  True, False\n",
      "                  he,  True, False\n",
      "                 was,  True, False\n",
      "                 not,  True, False\n",
      "               named,  True, False\n",
      "          chancellor,  True, False\n",
      "                   ,, False, False\n",
      "                 the,  True, False\n",
      "              office,  True, False\n",
      "         responsible,  True, False\n",
      "                 for,  True, False\n",
      "                 the,  True, False\n",
      "                seal,  True, False\n",
      "                   ,, False, False\n",
      "               until,  True, False\n",
      "                1226, False,  True\n",
      "                   ., False, False\n",
      "                  He,  True, False\n",
      "                 was,  True, False\n",
      "            rewarded,  True, False\n",
      "                with,  True, False\n",
      "                 the,  True, False\n",
      "           bishopric,  True, False\n",
      "                  of,  True, False\n",
      "          Chichester,  True, False\n",
      "                  in,  True, False\n",
      "                1222, False,  True\n",
      "                   ., False, False\n",
      "            Although,  True, False\n",
      "                  he,  True, False\n",
      "                 was,  True, False\n",
      "                also,  True, False\n",
      "             briefly,  True, False\n",
      "          Archbishop,  True, False\n",
      "                   -, False, False\n",
      "               elect,  True, False\n",
      "                  of,  True, False\n",
      "          Canterbury,  True, False\n",
      "                 and,  True, False\n",
      "              Bishop,  True, False\n",
      "                   -, False, False\n",
      "               elect,  True, False\n",
      "                  of,  True, False\n",
      "          Winchester,  True, False\n",
      "                   ,, False, False\n",
      "                both,  True, False\n",
      "           elections,  True, False\n",
      "                were,  True, False\n",
      "                 set,  True, False\n",
      "               aside,  True, False\n",
      "                   ,, False, False\n",
      "                  or,  True, False\n",
      "             quashed,  True, False\n",
      "                   ,, False, False\n",
      "                 and,  True, False\n",
      "                  he,  True, False\n",
      "                held,  True, False\n",
      "             neither,  True, False\n",
      "              office,  True, False\n",
      "                   ., False, False\n",
      "                  As,  True, False\n",
      "              keeper,  True, False\n",
      "                  of,  True, False\n",
      "                 the,  True, False\n",
      "                seal,  True, False\n",
      "                   ,, False, False\n",
      "                 and,  True, False\n",
      "        subsequently,  True, False\n",
      "                  as,  True, False\n",
      "          chancellor,  True, False\n",
      "                   ,, False, False\n",
      "             Neville,  True, False\n",
      "                 was,  True, False\n",
      "               noted,  True, False\n",
      "                 for,  True, False\n",
      "                 his,  True, False\n",
      "        impartiality,  True, False\n",
      "                   ,, False, False\n",
      "                 and,  True, False\n",
      "                  he,  True, False\n",
      "             oversaw,  True, False\n",
      "                   a,  True, False\n",
      "              number,  True, False\n",
      "                  of,  True, False\n",
      "             changes,  True, False\n",
      "                  in,  True, False\n",
      "                 the,  True, False\n",
      "                 way,  True, False\n",
      "                 the,  True, False\n",
      "            chancery,  True, False\n",
      "            operated,  True, False\n",
      "                   ., False, False\n",
      "             Neville,  True, False\n",
      "                 was,  True, False\n",
      "            deprived,  True, False\n",
      "                  of,  True, False\n",
      "                 the,  True, False\n",
      "               Great,  True, False\n",
      "                Seal,  True, False\n",
      "                  in,  True, False\n",
      "                1238, False,  True\n",
      "               after,  True, False\n",
      "         quarrelling,  True, False\n",
      "                with,  True, False\n",
      "                 the,  True, False\n",
      "                king,  True, False\n",
      "                   ,, False, False\n",
      "                 but,  True, False\n",
      "           continued,  True, False\n",
      "                  to,  True, False\n",
      "                hold,  True, False\n",
      "                 the,  True, False\n",
      "               title,  True, False\n",
      "                  of,  True, False\n",
      "          chancellor,  True, False\n",
      "               until,  True, False\n",
      "                 his,  True, False\n",
      "               death,  True, False\n",
      "                   ., False, False\n",
      "                  He,  True, False\n",
      "                died,  True, False\n",
      "                  in,  True, False\n",
      "                 his,  True, False\n",
      "              London,  True, False\n",
      "              palace,  True, False\n",
      "                   ,, False, False\n",
      "               built,  True, False\n",
      "                  on,  True, False\n",
      "                   a,  True, False\n",
      "              street,  True, False\n",
      "               later,  True, False\n",
      "             renamed,  True, False\n",
      "            Chancery,  True, False\n",
      "                Lane,  True, False\n",
      "               owing,  True, False\n",
      "                  to,  True, False\n",
      "                 his,  True, False\n",
      "          connection,  True, False\n",
      "                with,  True, False\n",
      "                 the,  True, False\n",
      "            chancery,  True, False\n",
      "                   ., False, False\n"
     ]
    }
   ],
   "source": [
    "for token in doc:\n",
    "    print('%20s, %5s, %5s' % (token, token.is_alpha, token.like_num))"
   ]
  },
  {
   "cell_type": "code",
   "execution_count": 14,
   "metadata": {},
   "outputs": [],
   "source": [
    "# is_left_punct : 왼쪽 괄호인지"
   ]
  },
  {
   "cell_type": "code",
   "execution_count": 19,
   "metadata": {},
   "outputs": [
    {
     "name": "stdout",
     "output_type": "stream",
     "text": [
      "1244 )\n",
      "1207 in\n",
      "1213 Neville\n",
      "1226 .\n",
      "1222 .\n",
      "1238 after\n"
     ]
    }
   ],
   "source": [
    "for token in doc:\n",
    "    if token.like_num:\n",
    "        next_token = doc[token.i+1]\n",
    "        print(token,next_token)"
   ]
  },
  {
   "cell_type": "markdown",
   "metadata": {},
   "source": [
    "# 5. Statistical models"
   ]
  },
  {
   "cell_type": "markdown",
   "metadata": {},
   "source": [
    "### Model Packages"
   ]
  },
  {
   "cell_type": "code",
   "execution_count": 18,
   "metadata": {},
   "outputs": [],
   "source": [
    "import spacy\n",
    "nlp = spacy.load('en_core_web_sm')"
   ]
  },
  {
   "cell_type": "markdown",
   "metadata": {},
   "source": [
    "### Predicting Part-of-speech Tags"
   ]
  },
  {
   "cell_type": "code",
   "execution_count": 27,
   "metadata": {},
   "outputs": [
    {
     "name": "stdout",
     "output_type": "stream",
     "text": [
      "She PRON PRP ate\n",
      "ate VERB VBD ate\n",
      "the DET DT pizza\n",
      "pizza NOUN NN ate\n",
      ". PUNCT . ate\n"
     ]
    }
   ],
   "source": [
    "# Process a text\n",
    "doc = nlp(\"She ate the pizza.\")\n",
    "\n",
    "# Iterate over the tokens\n",
    "for token in doc:\n",
    "    # Print the text and the predicted part-of-speech tag\n",
    "    print(token.text, token.pos_, token.tag_,token.head.text)#head는 상단"
   ]
  },
  {
   "cell_type": "code",
   "execution_count": 26,
   "metadata": {},
   "outputs": [
    {
     "name": "stderr",
     "output_type": "stream",
     "text": [
      "/Users/lih0905/anaconda3/envs/pytorch_ev/lib/python3.7/runpy.py:193: UserWarning: [W011] It looks like you're calling displacy.serve from within a Jupyter notebook or a similar environment. This likely means you're already running a local web server, so there's no need to make displaCy start another one. Instead, you should be able to replace displacy.serve with displacy.render to show the visualization.\n",
      "  \"__main__\", mod_spec)\n"
     ]
    },
    {
     "data": {
      "text/html": [
       "<!DOCTYPE html>\n",
       "<html lang=\"en\">\n",
       "    <head>\n",
       "        <title>displaCy</title>\n",
       "    </head>\n",
       "\n",
       "    <body style=\"font-size: 16px; font-family: -apple-system, BlinkMacSystemFont, 'Segoe UI', Helvetica, Arial, sans-serif, 'Apple Color Emoji', 'Segoe UI Emoji', 'Segoe UI Symbol'; padding: 4rem 2rem; direction: ltr\">\n",
       "<figure style=\"margin-bottom: 6rem\">\n",
       "<svg xmlns=\"http://www.w3.org/2000/svg\" xmlns:xlink=\"http://www.w3.org/1999/xlink\" xml:lang=\"en\" id=\"bef1a37243874f5dbb0dfcc5109dae70-0\" class=\"displacy\" width=\"750\" height=\"312.0\" direction=\"ltr\" style=\"max-width: none; height: 312.0px; color: #000000; background: #ffffff; font-family: Arial; direction: ltr\">\n",
       "<text class=\"displacy-token\" fill=\"currentColor\" text-anchor=\"middle\" y=\"222.0\">\n",
       "    <tspan class=\"displacy-word\" fill=\"currentColor\" x=\"50\">She</tspan>\n",
       "    <tspan class=\"displacy-tag\" dy=\"2em\" fill=\"currentColor\" x=\"50\">PRON</tspan>\n",
       "</text>\n",
       "\n",
       "<text class=\"displacy-token\" fill=\"currentColor\" text-anchor=\"middle\" y=\"222.0\">\n",
       "    <tspan class=\"displacy-word\" fill=\"currentColor\" x=\"225\">ate</tspan>\n",
       "    <tspan class=\"displacy-tag\" dy=\"2em\" fill=\"currentColor\" x=\"225\">VERB</tspan>\n",
       "</text>\n",
       "\n",
       "<text class=\"displacy-token\" fill=\"currentColor\" text-anchor=\"middle\" y=\"222.0\">\n",
       "    <tspan class=\"displacy-word\" fill=\"currentColor\" x=\"400\">the</tspan>\n",
       "    <tspan class=\"displacy-tag\" dy=\"2em\" fill=\"currentColor\" x=\"400\">DET</tspan>\n",
       "</text>\n",
       "\n",
       "<text class=\"displacy-token\" fill=\"currentColor\" text-anchor=\"middle\" y=\"222.0\">\n",
       "    <tspan class=\"displacy-word\" fill=\"currentColor\" x=\"575\">pizza.</tspan>\n",
       "    <tspan class=\"displacy-tag\" dy=\"2em\" fill=\"currentColor\" x=\"575\">NOUN</tspan>\n",
       "</text>\n",
       "\n",
       "<g class=\"displacy-arrow\">\n",
       "    <path class=\"displacy-arc\" id=\"arrow-bef1a37243874f5dbb0dfcc5109dae70-0-0\" stroke-width=\"2px\" d=\"M70,177.0 C70,89.5 220.0,89.5 220.0,177.0\" fill=\"none\" stroke=\"currentColor\"/>\n",
       "    <text dy=\"1.25em\" style=\"font-size: 0.8em; letter-spacing: 1px\">\n",
       "        <textPath xlink:href=\"#arrow-bef1a37243874f5dbb0dfcc5109dae70-0-0\" class=\"displacy-label\" startOffset=\"50%\" side=\"left\" fill=\"currentColor\" text-anchor=\"middle\">nsubj</textPath>\n",
       "    </text>\n",
       "    <path class=\"displacy-arrowhead\" d=\"M70,179.0 L62,167.0 78,167.0\" fill=\"currentColor\"/>\n",
       "</g>\n",
       "\n",
       "<g class=\"displacy-arrow\">\n",
       "    <path class=\"displacy-arc\" id=\"arrow-bef1a37243874f5dbb0dfcc5109dae70-0-1\" stroke-width=\"2px\" d=\"M420,177.0 C420,89.5 570.0,89.5 570.0,177.0\" fill=\"none\" stroke=\"currentColor\"/>\n",
       "    <text dy=\"1.25em\" style=\"font-size: 0.8em; letter-spacing: 1px\">\n",
       "        <textPath xlink:href=\"#arrow-bef1a37243874f5dbb0dfcc5109dae70-0-1\" class=\"displacy-label\" startOffset=\"50%\" side=\"left\" fill=\"currentColor\" text-anchor=\"middle\">det</textPath>\n",
       "    </text>\n",
       "    <path class=\"displacy-arrowhead\" d=\"M420,179.0 L412,167.0 428,167.0\" fill=\"currentColor\"/>\n",
       "</g>\n",
       "\n",
       "<g class=\"displacy-arrow\">\n",
       "    <path class=\"displacy-arc\" id=\"arrow-bef1a37243874f5dbb0dfcc5109dae70-0-2\" stroke-width=\"2px\" d=\"M245,177.0 C245,2.0 575.0,2.0 575.0,177.0\" fill=\"none\" stroke=\"currentColor\"/>\n",
       "    <text dy=\"1.25em\" style=\"font-size: 0.8em; letter-spacing: 1px\">\n",
       "        <textPath xlink:href=\"#arrow-bef1a37243874f5dbb0dfcc5109dae70-0-2\" class=\"displacy-label\" startOffset=\"50%\" side=\"left\" fill=\"currentColor\" text-anchor=\"middle\">dobj</textPath>\n",
       "    </text>\n",
       "    <path class=\"displacy-arrowhead\" d=\"M575.0,179.0 L583.0,167.0 567.0,167.0\" fill=\"currentColor\"/>\n",
       "</g>\n",
       "</svg>\n",
       "</figure>\n",
       "</body>\n",
       "</html>"
      ],
      "text/plain": [
       "<IPython.core.display.HTML object>"
      ]
     },
     "metadata": {},
     "output_type": "display_data"
    },
    {
     "name": "stdout",
     "output_type": "stream",
     "text": [
      "\n",
      "Using the 'dep' visualizer\n",
      "Serving on http://0.0.0.0:5000 ...\n",
      "\n",
      "Shutting down server on port 5000.\n"
     ]
    }
   ],
   "source": [
    "from spacy import displacy\n",
    "\n",
    "displacy.serve(doc, style='dep')"
   ]
  },
  {
   "cell_type": "code",
   "execution_count": 22,
   "metadata": {},
   "outputs": [
    {
     "data": {
      "text/plain": [
       "'noun, proper singular'"
      ]
     },
     "execution_count": 22,
     "metadata": {},
     "output_type": "execute_result"
    }
   ],
   "source": [
    "spacy.explain('NNP')"
   ]
  },
  {
   "cell_type": "markdown",
   "metadata": {},
   "source": [
    "### Predicting Named Entities"
   ]
  },
  {
   "cell_type": "code",
   "execution_count": 31,
   "metadata": {},
   "outputs": [
    {
     "name": "stdout",
     "output_type": "stream",
     "text": [
      "Apple 0 5 ORG\n",
      "U.K. 27 31 GPE\n",
      "$1 billion 44 54 MONEY\n"
     ]
    }
   ],
   "source": [
    "# Process a text\n",
    "doc = nlp(u\"Apple is looking at buying U.K. startup for $1 billion\")\n",
    "\n",
    "# Iterate over the predicted entities\n",
    "for ent in doc.ents:\n",
    "    # Print the entity text and its label\n",
    "    print(ent.text, ent.start_char, ent.end_char, ent.label_) # \"real world objects\""
   ]
  },
  {
   "cell_type": "code",
   "execution_count": 32,
   "metadata": {},
   "outputs": [
    {
     "name": "stderr",
     "output_type": "stream",
     "text": [
      "/Users/lih0905/anaconda3/envs/pytorch_ev/lib/python3.7/runpy.py:193: UserWarning: [W011] It looks like you're calling displacy.serve from within a Jupyter notebook or a similar environment. This likely means you're already running a local web server, so there's no need to make displaCy start another one. Instead, you should be able to replace displacy.serve with displacy.render to show the visualization.\n",
      "  \"__main__\", mod_spec)\n"
     ]
    },
    {
     "data": {
      "text/html": [
       "<!DOCTYPE html>\n",
       "<html lang=\"en\">\n",
       "    <head>\n",
       "        <title>displaCy</title>\n",
       "    </head>\n",
       "\n",
       "    <body style=\"font-size: 16px; font-family: -apple-system, BlinkMacSystemFont, 'Segoe UI', Helvetica, Arial, sans-serif, 'Apple Color Emoji', 'Segoe UI Emoji', 'Segoe UI Symbol'; padding: 4rem 2rem; direction: ltr\">\n",
       "<figure style=\"margin-bottom: 6rem\">\n",
       "<div class=\"entities\" style=\"line-height: 2.5; direction: ltr\">\n",
       "<mark class=\"entity\" style=\"background: #7aecec; padding: 0.45em 0.6em; margin: 0 0.25em; line-height: 1; border-radius: 0.35em; box-decoration-break: clone; -webkit-box-decoration-break: clone\">\n",
       "    Apple\n",
       "    <span style=\"font-size: 0.8em; font-weight: bold; line-height: 1; border-radius: 0.35em; text-transform: uppercase; vertical-align: middle; margin-left: 0.5rem\">ORG</span>\n",
       "</mark>\n",
       " is looking at buying \n",
       "<mark class=\"entity\" style=\"background: #feca74; padding: 0.45em 0.6em; margin: 0 0.25em; line-height: 1; border-radius: 0.35em; box-decoration-break: clone; -webkit-box-decoration-break: clone\">\n",
       "    U.K.\n",
       "    <span style=\"font-size: 0.8em; font-weight: bold; line-height: 1; border-radius: 0.35em; text-transform: uppercase; vertical-align: middle; margin-left: 0.5rem\">GPE</span>\n",
       "</mark>\n",
       " startup for \n",
       "<mark class=\"entity\" style=\"background: #e4e7d2; padding: 0.45em 0.6em; margin: 0 0.25em; line-height: 1; border-radius: 0.35em; box-decoration-break: clone; -webkit-box-decoration-break: clone\">\n",
       "    $1 billion\n",
       "    <span style=\"font-size: 0.8em; font-weight: bold; line-height: 1; border-radius: 0.35em; text-transform: uppercase; vertical-align: middle; margin-left: 0.5rem\">MONEY</span>\n",
       "</mark>\n",
       "</div>\n",
       "</figure>\n",
       "</body>\n",
       "</html>"
      ],
      "text/plain": [
       "<IPython.core.display.HTML object>"
      ]
     },
     "metadata": {},
     "output_type": "display_data"
    },
    {
     "name": "stdout",
     "output_type": "stream",
     "text": [
      "\n",
      "Using the 'ent' visualizer\n",
      "Serving on http://0.0.0.0:5000 ...\n",
      "\n",
      "Shutting down server on port 5000.\n"
     ]
    }
   ],
   "source": [
    "displacy.serve(doc, style='ent')"
   ]
  },
  {
   "cell_type": "markdown",
   "metadata": {},
   "source": [
    "### Tip: the explain method"
   ]
  },
  {
   "cell_type": "code",
   "execution_count": 23,
   "metadata": {},
   "outputs": [
    {
     "data": {
      "text/plain": [
       "'Countries, cities, states'"
      ]
     },
     "execution_count": 23,
     "metadata": {},
     "output_type": "execute_result"
    }
   ],
   "source": [
    "spacy.explain('GPE')"
   ]
  },
  {
   "cell_type": "code",
   "execution_count": 24,
   "metadata": {},
   "outputs": [
    {
     "data": {
      "text/plain": [
       "'noun, proper singular'"
      ]
     },
     "execution_count": 24,
     "metadata": {},
     "output_type": "execute_result"
    }
   ],
   "source": [
    "spacy.explain('NNP')"
   ]
  },
  {
   "cell_type": "code",
   "execution_count": 25,
   "metadata": {},
   "outputs": [
    {
     "data": {
      "text/plain": [
       "'direct object'"
      ]
     },
     "execution_count": 25,
     "metadata": {},
     "output_type": "execute_result"
    }
   ],
   "source": [
    "spacy.explain('dobj')"
   ]
  },
  {
   "cell_type": "code",
   "execution_count": 26,
   "metadata": {},
   "outputs": [
    {
     "data": {
      "text/plain": [
       "'Monetary values, including unit'"
      ]
     },
     "execution_count": 26,
     "metadata": {},
     "output_type": "execute_result"
    }
   ],
   "source": [
    "spacy.explain('MONEY')"
   ]
  },
  {
   "cell_type": "markdown",
   "metadata": {},
   "source": [
    "# 10. Rule-based matching"
   ]
  },
  {
   "cell_type": "markdown",
   "metadata": {},
   "source": [
    "### Match patterns"
   ]
  },
  {
   "cell_type": "code",
   "execution_count": 33,
   "metadata": {},
   "outputs": [],
   "source": [
    "import spacy\n",
    "\n",
    "# Impoirt the Matcher\n",
    "from spacy.matcher import Matcher\n",
    "\n",
    "# Load a model and create the nlp object\n",
    "nlp = spacy.load('en_core_web_sm')\n",
    "\n",
    "# Initialize the matcher with the shared vocab\n",
    "matcher = Matcher(nlp.vocab)"
   ]
  },
  {
   "cell_type": "code",
   "execution_count": 34,
   "metadata": {},
   "outputs": [],
   "source": [
    "# Add the pattern to the matcher\n",
    "pattern = [{'TEXT':'iPhone'},{'TEXT':'X'}] # 연속 단어의 규칙을 지정하는 것.\n",
    "matcher.add('IPHONE_PATTER',None, pattern) # (unique_id, callback, pattern)\n",
    "\n",
    "# Process some text\n",
    "doc = nlp('New iPhone X release data leaked!')\n",
    "\n",
    "# Call the matcher on the doc\n",
    "matches = matcher(doc)"
   ]
  },
  {
   "cell_type": "code",
   "execution_count": 35,
   "metadata": {},
   "outputs": [
    {
     "data": {
      "text/plain": [
       "[(10045584118957045607, 1, 3)]"
      ]
     },
     "execution_count": 35,
     "metadata": {},
     "output_type": "execute_result"
    }
   ],
   "source": [
    "matches # (match_id, start, end)"
   ]
  },
  {
   "cell_type": "code",
   "execution_count": 36,
   "metadata": {},
   "outputs": [
    {
     "name": "stdout",
     "output_type": "stream",
     "text": [
      "iPhone X\n"
     ]
    }
   ],
   "source": [
    "# Iterate over the matches\n",
    "for match_id, start, end in matches:\n",
    "    # Get the matched span\n",
    "    matched_span = doc[start:end]\n",
    "    print(matched_span.text)"
   ]
  },
  {
   "cell_type": "code",
   "execution_count": 39,
   "metadata": {},
   "outputs": [
    {
     "name": "stdout",
     "output_type": "stream",
     "text": [
      "[(14862748245026736845, 0, 1), (14862748245026736845, 2, 3), (14862748245026736845, 4, 5)]\n",
      "A\n",
      "A\n",
      "A\n"
     ]
    }
   ],
   "source": [
    "doc = nlp('A b A b A b')\n",
    "patternA =[{'TEXT':'A'}]\n",
    "matcher.add('A', None, patternA)\n",
    "matches = matcher(doc)\n",
    "print(matches)\n",
    "for match_id, start, end in matches:\n",
    "    # Get the matched span\n",
    "    matched_span = doc[start:end]\n",
    "    print(matched_span.text)"
   ]
  },
  {
   "cell_type": "code",
   "execution_count": 42,
   "metadata": {},
   "outputs": [
    {
     "ename": "KeyError",
     "evalue": "14862748245026736845",
     "output_type": "error",
     "traceback": [
      "\u001b[1;31m---------------------------------------------------------------------------\u001b[0m",
      "\u001b[1;31mKeyError\u001b[0m                                  Traceback (most recent call last)",
      "\u001b[1;32m<ipython-input-42-627617ac01a9>\u001b[0m in \u001b[0;36m<module>\u001b[1;34m\u001b[0m\n\u001b[1;32m----> 1\u001b[1;33m \u001b[0mmatcher\u001b[0m\u001b[1;33m.\u001b[0m\u001b[0mremove\u001b[0m\u001b[1;33m(\u001b[0m\u001b[1;34m'A'\u001b[0m\u001b[1;33m)\u001b[0m\u001b[1;33m\u001b[0m\u001b[1;33m\u001b[0m\u001b[0m\n\u001b[0m",
      "\u001b[1;32mmatcher.pyx\u001b[0m in \u001b[0;36mspacy.matcher.matcher.Matcher.remove\u001b[1;34m()\u001b[0m\n",
      "\u001b[1;31mKeyError\u001b[0m: 14862748245026736845"
     ]
    }
   ],
   "source": [
    "matcher.remove('A')"
   ]
  },
  {
   "cell_type": "code",
   "execution_count": 43,
   "metadata": {},
   "outputs": [
    {
     "name": "stdout",
     "output_type": "stream",
     "text": [
      "[]\n"
     ]
    }
   ],
   "source": [
    "matches = matcher(doc)\n",
    "print(matches)\n",
    "for match_id, start, end in matches:\n",
    "    # Get the matched span\n",
    "    matched_span = doc[start:end]\n",
    "    print(matched_span.text)"
   ]
  },
  {
   "cell_type": "code",
   "execution_count": 45,
   "metadata": {},
   "outputs": [],
   "source": [
    "pattern = [\n",
    "    {'IS_DIGIT':True},\n",
    "    {'LOWER': 'fifa'},\n",
    "    {'LOWER':'world'},\n",
    "    {\"LOWER\":\"cup\"},\n",
    "    {\"IS_PUNCT\":True}\n",
    "]"
   ]
  },
  {
   "cell_type": "code",
   "execution_count": 46,
   "metadata": {},
   "outputs": [],
   "source": [
    "doc = nlp(\"2018 FIFA World Cup: France won!\")"
   ]
  },
  {
   "cell_type": "code",
   "execution_count": 47,
   "metadata": {},
   "outputs": [
    {
     "name": "stdout",
     "output_type": "stream",
     "text": [
      "2018 FIFA World Cup:\n"
     ]
    }
   ],
   "source": [
    "matcher.add('WORLD_CUP', None, pattern)\n",
    "matches = matcher(doc)\n",
    "for matched_id, start, end in matches:\n",
    "    print(doc[start:end])"
   ]
  },
  {
   "cell_type": "markdown",
   "metadata": {},
   "source": [
    "라이브러리가 전처리가 부족하여 특정 단어를 인식하지 못할 경우,\n",
    "matcher 를 이용하여 수동으로 처리한다는 개념"
   ]
  },
  {
   "cell_type": "code",
   "execution_count": 49,
   "metadata": {},
   "outputs": [
    {
     "name": "stdout",
     "output_type": "stream",
     "text": [
      "loved dogs\n",
      "love cats\n"
     ]
    }
   ],
   "source": [
    "pattern = [\n",
    "    {'LEMMA':'love', 'POS':'VERB'},\n",
    "    {'POS':\"NOUN\"}\n",
    "    \n",
    "]\n",
    "doc = nlp('I loved dogs but now I love cats more.')\n",
    "matcher.add('love', None, pattern)\n",
    "matches = matcher(doc)\n",
    "for matched_id, start, end in matches:\n",
    "    print(doc[start:end])"
   ]
  },
  {
   "cell_type": "code",
   "execution_count": 53,
   "metadata": {},
   "outputs": [
    {
     "name": "stdout",
     "output_type": "stream",
     "text": [
      "bought a smartphone\n",
      "buying apps\n"
     ]
    }
   ],
   "source": [
    "pattern = [\n",
    "    {'LEMMA':'buy'},\n",
    "    {'POS':'DET', \"OP\":'?'}, # optional : match 0 or 1 times\n",
    "    {'POS':\"NOUN\"}\n",
    "]\n",
    "doc = nlp(\"I bought a smartphone. Now I'm buying apps.\")\n",
    "matcher = Matcher(nlp.vocab)\n",
    "matcher.add('buy', None, pattern)\n",
    "matches = matcher(doc)\n",
    "for matched_id, start, end in matches:\n",
    "    print(doc[start:end])"
   ]
  },
  {
   "cell_type": "markdown",
   "metadata": {},
   "source": [
    "{'OP': '!'} Negation : match 0 times\n",
    "\n",
    "{'OP': '?'} Optional: match 0 or 1 times\n",
    "\n",
    "{'OP': '+'} Match 1 or more times\n",
    "\n",
    "{'OP': '*'} Match 0 or more times"
   ]
  },
  {
   "cell_type": "code",
   "execution_count": null,
   "metadata": {},
   "outputs": [],
   "source": []
  }
 ],
 "metadata": {
  "kernelspec": {
   "display_name": "Python 3",
   "language": "python",
   "name": "python3"
  },
  "language_info": {
   "codemirror_mode": {
    "name": "ipython",
    "version": 3
   },
   "file_extension": ".py",
   "mimetype": "text/x-python",
   "name": "python",
   "nbconvert_exporter": "python",
   "pygments_lexer": "ipython3",
   "version": "3.7.3"
  }
 },
 "nbformat": 4,
 "nbformat_minor": 2
}
