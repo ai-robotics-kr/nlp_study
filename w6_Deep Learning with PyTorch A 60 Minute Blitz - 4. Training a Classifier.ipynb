{
 "cells": [
  {
   "cell_type": "code",
   "execution_count": 1,
   "metadata": {
    "colab": {},
    "colab_type": "code",
    "id": "lTp83M-WmLs0"
   },
   "outputs": [],
   "source": [
    "import torch\n",
    "import torchvision\n",
    "import torchvision.transforms as transforms"
   ]
  },
  {
   "cell_type": "code",
   "execution_count": 2,
   "metadata": {
    "colab": {},
    "colab_type": "code",
    "id": "ndHZ9HxemNdi"
   },
   "outputs": [],
   "source": [
    "transform = transforms.Compose(\n",
    "  [transforms.ToTensor(),\n",
    "  transforms.Normalize((0.5,0.5,0.5),(0.5,0.5,0.5))])"
   ]
  },
  {
   "cell_type": "code",
   "execution_count": 3,
   "metadata": {
    "colab": {
     "base_uri": "https://localhost:8080/",
     "height": 231
    },
    "colab_type": "code",
    "executionInfo": {
     "elapsed": 5710,
     "status": "ok",
     "timestamp": 1563531478677,
     "user": {
      "displayName": "Inhwan Lee",
      "photoUrl": "https://lh5.googleusercontent.com/-5lUmIvfg1FQ/AAAAAAAAAAI/AAAAAAAAB20/zcaOdBSgGnE/s64/photo.jpg",
      "userId": "00207258631190759901"
     },
     "user_tz": -540
    },
    "id": "DpJxGtIxbVWa",
    "outputId": "fb99d6e0-b08f-4dec-a821-8d3bf60993da"
   },
   "outputs": [
    {
     "name": "stdout",
     "output_type": "stream",
     "text": [
      "Files already downloaded and verified\n",
      "Files already downloaded and verified\n"
     ]
    }
   ],
   "source": [
    "trainset = torchvision.datasets.CIFAR10(root='./data', train=True, download=True, transform = transform)\n",
    "trainloader = torch.utils.data.DataLoader(trainset, batch_size=4, shuffle=True, num_workers=2)\n",
    "testset = torchvision.datasets.CIFAR10(root='./data', train=False, download=True, transform = transform)\n",
    "testloader = torch.utils.data.DataLoader(testset, batch_size=4, shuffle=True, num_workers=2)"
   ]
  },
  {
   "cell_type": "code",
   "execution_count": 21,
   "metadata": {},
   "outputs": [
    {
     "name": "stdout",
     "output_type": "stream",
     "text": [
      "Dataset CIFAR10\n",
      "    Number of datapoints: 50000\n",
      "    Root location: ./data\n",
      "    Split: Train\n",
      "Dataset CIFAR10\n",
      "    Number of datapoints: 10000\n",
      "    Root location: ./data\n",
      "    Split: Test\n"
     ]
    }
   ],
   "source": [
    "print(trainset)\n",
    "print(testset)"
   ]
  },
  {
   "cell_type": "code",
   "execution_count": 4,
   "metadata": {
    "colab": {},
    "colab_type": "code",
    "id": "g1Pg1fM0cGSK"
   },
   "outputs": [],
   "source": [
    "classes = ('plane', 'car', 'bird', 'cat', 'deer', 'dog', 'frog', 'horse', 'ship', 'truck')"
   ]
  },
  {
   "cell_type": "code",
   "execution_count": 26,
   "metadata": {
    "colab": {
     "base_uri": "https://localhost:8080/",
     "height": 156
    },
    "colab_type": "code",
    "executionInfo": {
     "elapsed": 1026,
     "status": "ok",
     "timestamp": 1563531693022,
     "user": {
      "displayName": "Inhwan Lee",
      "photoUrl": "https://lh5.googleusercontent.com/-5lUmIvfg1FQ/AAAAAAAAAAI/AAAAAAAAB20/zcaOdBSgGnE/s64/photo.jpg",
      "userId": "00207258631190759901"
     },
     "user_tz": -540
    },
    "id": "NrrbVWLLcNgL",
    "outputId": "1bafe121-fd6f-4c38-d380-efeebf652873"
   },
   "outputs": [
    {
     "name": "stdout",
     "output_type": "stream",
     "text": [
      "torch.Size([3, 36, 138])\n",
      "plane  ship  frog   cat\n"
     ]
    },
    {
     "data": {
      "image/png": "[encoded data removed]",
      "text/plain": [
       "<Figure size 432x288 with 1 Axes>"
      ]
     },
     "metadata": {
      "needs_background": "light"
     },
     "output_type": "display_data"
    }
   ],
   "source": [
    "import matplotlib.pyplot as plt\n",
    "import numpy as np\n",
    "\n",
    "def imshow(img):\n",
    "  img = img / 2 + 0.5\n",
    "  npimg = img.numpy() # shape = (3,36,138)\n",
    "  plt.imshow(np.transpose(npimg, (1,2,0))) # imshow(m,n,c) (36,138,3)\n",
    " \n",
    "dataiter = iter(trainloader)\n",
    "images, labels = dataiter.next()\n",
    "\n",
    "print(torchvision.utils.make_grid(images).size())\n",
    "imshow(torchvision.utils.make_grid(images)) # make_grid 쓰면 자동으로 그리드 만들어줌\n",
    "print(' '.join('%5s' % classes[labels[j]] for j in range(4)))"
   ]
  },
  {
   "cell_type": "code",
   "execution_count": 6,
   "metadata": {
    "colab": {},
    "colab_type": "code",
    "id": "BsQDYEv5cmUs"
   },
   "outputs": [],
   "source": [
    "import torch.nn as nn\n",
    "import torch.nn.functional as F"
   ]
  },
  {
   "cell_type": "code",
   "execution_count": 27,
   "metadata": {},
   "outputs": [],
   "source": [
    "# Max-pooling 하면 image size가  odd일 때는 어떻게 처리하지? 테스트\n",
    "class NetT(nn.Module):\n",
    "    def __init__(self):\n",
    "        super(NetT, self).__init__()\n",
    "        self.pool = nn.MaxPool2d(2,2)\n",
    "        \n",
    "    def forward(self, x):\n",
    "        return self.pool(x)"
   ]
  },
  {
   "cell_type": "code",
   "execution_count": 18,
   "metadata": {},
   "outputs": [
    {
     "data": {
      "text/plain": [
       "tensor([[[[0.2559, 0.7449, 0.9085, 0.4704, 0.0895],\n",
       "          [0.0398, 0.7329, 0.6802, 0.7012, 0.5585],\n",
       "          [0.6755, 0.9406, 0.8567, 0.7186, 0.2992],\n",
       "          [0.2912, 0.0481, 0.7616, 0.5876, 0.3506],\n",
       "          [0.8591, 0.2612, 0.7863, 0.5009, 0.6717]]]])"
      ]
     },
     "execution_count": 18,
     "metadata": {},
     "output_type": "execute_result"
    }
   ],
   "source": [
    "x = torch.rand(1,1,5,5)\n",
    "x"
   ]
  },
  {
   "cell_type": "code",
   "execution_count": 19,
   "metadata": {},
   "outputs": [
    {
     "data": {
      "text/plain": [
       "(tensor([[[[0.7449, 0.9085],\n",
       "           [0.9406, 0.8567]]]]), torch.Size([1, 1, 2, 2]))"
      ]
     },
     "execution_count": 19,
     "metadata": {},
     "output_type": "execute_result"
    }
   ],
   "source": [
    "nett = NetT()\n",
    "y = nett(x)\n",
    "y, y.size()"
   ]
  },
  {
   "cell_type": "code",
   "execution_count": null,
   "metadata": {},
   "outputs": [],
   "source": [
    "# Max-pooling 할 때 맨 뒷자리를 ㅂㅓ리는듯?"
   ]
  },
  {
   "cell_type": "code",
   "execution_count": 30,
   "metadata": {
    "colab": {},
    "colab_type": "code",
    "id": "g5p6gsNzrZUC"
   },
   "outputs": [],
   "source": [
    "class Net(nn.Module):\n",
    "  def __init__(self):\n",
    "    super(Net, self).__init__()\n",
    "    self.conv1 = nn.Conv2d(3,6,5)\n",
    "    self.pool = nn.MaxPool2d(2,2)\n",
    "    self.conv2 = nn.Conv2d(6, 16, 5)\n",
    "    self.fc1 = nn.Linear(16 * 5 * 5, 120) # 32 * 32 이미지가 conv > pooling > conv > pooling하면 5*5 됨\n",
    "    self.fc2 = nn.Linear(120, 84)\n",
    "    self.fc3 = nn.Linear(84, 10)\n",
    "    \n",
    "  def forward(self, x):\n",
    "    x = self.pool(F.relu(self.conv1(x)))\n",
    "    x = self.pool(F.relu(self.conv2(x)))\n",
    "    x = x.view(-1, 16 * 5 * 5)\n",
    "    x = F.relu(self.fc1(x))\n",
    "    x = F.relu(self.fc2(x))\n",
    "    x = self.fc3(x)\n",
    "    return x"
   ]
  },
  {
   "cell_type": "code",
   "execution_count": 31,
   "metadata": {
    "colab": {},
    "colab_type": "code",
    "id": "JftEo3WqsBie"
   },
   "outputs": [],
   "source": [
    "net = Net()"
   ]
  },
  {
   "cell_type": "code",
   "execution_count": 94,
   "metadata": {},
   "outputs": [],
   "source": [
    "loss = nn.CrossEntropyLoss()\n",
    "input = torch.randn(3, 5)\n",
    "target = torch.empty(3, dtype=torch.long).random_(5)\n",
    "output = loss(input, target)"
   ]
  },
  {
   "cell_type": "code",
   "execution_count": 105,
   "metadata": {},
   "outputs": [
    {
     "data": {
      "text/plain": [
       "(tensor([[-0.6794, -1.7731,  0.5752,  0.2017,  0.6027],\n",
       "         [ 0.4750, -0.9852, -0.7233, -1.4471,  0.0276],\n",
       "         [ 0.3681, -0.3639, -0.5184, -1.9810,  1.1750]]),\n",
       " tensor([[0.5069, 0.1698, 1.7775, 1.2235, 1.8271],\n",
       "         [1.6080, 0.3734, 0.4852, 0.2352, 1.0280],\n",
       "         [1.4450, 0.6949, 0.5955, 0.1379, 3.2382]]),\n",
       " tensor([2, 4, 4]))"
      ]
     },
     "execution_count": 105,
     "metadata": {},
     "output_type": "execute_result"
    }
   ],
   "source": [
    "expp = torch.exp(input)\n",
    "input,expp,target"
   ]
  },
  {
   "cell_type": "code",
   "execution_count": 103,
   "metadata": {},
   "outputs": [
    {
     "data": {
      "text/plain": [
       "(array([[0.09208634, 0.03084629, 0.32290196, 0.22226192, 0.33190352],\n",
       "        [0.43112537, 0.10010336, 0.13008204, 0.06307417, 0.27561504],\n",
       "        [0.2364351 , 0.11371152, 0.09743676, 0.02256999, 0.5298466 ]],\n",
       "       dtype=float32), array([1., 1., 1.], dtype=float32))"
      ]
     },
     "execution_count": 103,
     "metadata": {},
     "output_type": "execute_result"
    }
   ],
   "source": [
    "tt =expp.numpy()\n",
    "ss = tt.sum(1).reshape(3,-1)\n",
    "sm = tt/ss\n",
    "sm,np.sum(tt/ss,1), "
   ]
  },
  {
   "cell_type": "code",
   "execution_count": 110,
   "metadata": {
    "scrolled": false
   },
   "outputs": [
    {
     "name": "stderr",
     "output_type": "stream",
     "text": [
      "G:\\Anaconda3\\envs\\PyTorch_ev\\lib\\site-packages\\ipykernel_launcher.py:1: DeprecationWarning: Calling np.sum(generator) is deprecated, and in the future will give a different result. Use np.sum(np.fromiter(generator)) or the python sum builtin instead.\n",
      "  \"\"\"Entry point for launching an IPython kernel.\n"
     ]
    },
    {
     "data": {
      "text/plain": [
       "1.0181081295013428"
      ]
     },
     "execution_count": 110,
     "metadata": {},
     "output_type": "execute_result"
    }
   ],
   "source": [
    "-np.sum(np.log(sm[i,target[i]]) for i in range(3))/3"
   ]
  },
  {
   "cell_type": "code",
   "execution_count": 109,
   "metadata": {},
   "outputs": [
    {
     "data": {
      "text/plain": [
       "(tensor([[-0.6794, -1.7731,  0.5752,  0.2017,  0.6027],\n",
       "         [ 0.4750, -0.9852, -0.7233, -1.4471,  0.0276],\n",
       "         [ 0.3681, -0.3639, -0.5184, -1.9810,  1.1750]]),\n",
       " tensor([[0.5069, 0.1698, 1.7775, 1.2235, 1.8271],\n",
       "         [1.6080, 0.3734, 0.4852, 0.2352, 1.0280],\n",
       "         [1.4450, 0.6949, 0.5955, 0.1379, 3.2382]]),\n",
       " tensor([[-0.6794, -1.7731,  0.5752,  0.2017,  0.6027],\n",
       "         [ 0.4750, -0.9852, -0.7233, -1.4471,  0.0276],\n",
       "         [ 0.3681, -0.3639, -0.5184, -1.9810,  1.1750]]),\n",
       " tensor([2, 4, 4]),\n",
       " tensor(1.0181))"
      ]
     },
     "execution_count": 109,
     "metadata": {},
     "output_type": "execute_result"
    }
   ],
   "source": [
    "input,expp, torch.log(expp),target, output"
   ]
  },
  {
   "cell_type": "markdown",
   "metadata": {},
   "source": [
    " 드디어 해결 sb... 결국 Cross Entropy Error 는 다음 식을 말한다.\n",
    " \n",
    " $-\\frac{1}{m}\\sum_i\\sum_k(y^i_k\\log(softmax(output))$\n",
    " where $k \\in ${classes} and $m$ is the number of samples."
   ]
  },
  {
   "cell_type": "code",
   "execution_count": null,
   "metadata": {},
   "outputs": [],
   "source": []
  },
  {
   "cell_type": "code",
   "execution_count": 32,
   "metadata": {
    "colab": {},
    "colab_type": "code",
    "id": "JaHinNwwsCcV"
   },
   "outputs": [],
   "source": [
    "import torch.optim as optim\n",
    "\n",
    "criterion = nn.CrossEntropyLoss()\n",
    "optimizer = optim.SGD(net.parameters(), lr = 0.001, momentum=0.9)\n",
    "# optimizer = optim.Adam(net.parameters(), lr = 0.001, weight_decay = 1e-4)"
   ]
  },
  {
   "cell_type": "code",
   "execution_count": 10,
   "metadata": {},
   "outputs": [],
   "source": [
    "import time"
   ]
  },
  {
   "cell_type": "code",
   "execution_count": 29,
   "metadata": {},
   "outputs": [
    {
     "name": "stdout",
     "output_type": "stream",
     "text": [
      "0\n",
      "1\n",
      "2\n",
      "3\n",
      "4\n",
      "5\n",
      "6\n",
      "7\n",
      "8\n",
      "9\n"
     ]
    }
   ],
   "source": [
    "d=0\n",
    "for i , data in enumerate(trainloader):\n",
    "    print(i)\n",
    "    d+=1\n",
    "    \n",
    "    if d==10:\n",
    "        break"
   ]
  },
  {
   "cell_type": "code",
   "execution_count": null,
   "metadata": {},
   "outputs": [],
   "source": []
  },
  {
   "cell_type": "code",
   "execution_count": 11,
   "metadata": {
    "colab": {
     "base_uri": "https://localhost:8080/",
     "height": 238
    },
    "colab_type": "code",
    "executionInfo": {
     "elapsed": 175137,
     "status": "ok",
     "timestamp": 1563531015467,
     "user": {
      "displayName": "Inhwan Lee",
      "photoUrl": "https://lh5.googleusercontent.com/-5lUmIvfg1FQ/AAAAAAAAAAI/AAAAAAAAB20/zcaOdBSgGnE/s64/photo.jpg",
      "userId": "00207258631190759901"
     },
     "user_tz": -540
    },
    "id": "I23J95DlsK28",
    "outputId": "07129093-e088-4b4a-d977-b7e24f3360a2"
   },
   "outputs": [
    {
     "name": "stdout",
     "output_type": "stream",
     "text": [
      "[1,  2000] loss: 2.204\n",
      "[1,  4000] loss: 1.877\n",
      "[1,  6000] loss: 1.715\n",
      "[1,  8000] loss: 1.624\n",
      "[1, 10000] loss: 1.528\n",
      "[1, 12000] loss: 1.491\n",
      "[2,  2000] loss: 1.409\n",
      "[2,  4000] loss: 1.381\n",
      "[2,  6000] loss: 1.375\n",
      "[2,  8000] loss: 1.365\n",
      "[2, 10000] loss: 1.323\n",
      "[2, 12000] loss: 1.305\n",
      "Finished Training!\n",
      "time : 463.5393259525299\n"
     ]
    }
   ],
   "source": [
    "\n",
    "start = time.time()  # 시작 시간 저장\n",
    "for epoch in range(2):\n",
    "  \n",
    "  running_loss = 0.0\n",
    "  for i, data in enumerate(trainloader, 0):\n",
    "    inputs, labels = data\n",
    "    \n",
    "    optimizer.zero_grad()\n",
    "    \n",
    "    outputs = net(inputs)\n",
    "    loss = criterion(outputs, labels)\n",
    "    loss.backward()\n",
    "    optimizer.step()\n",
    "    \n",
    "    \n",
    "    running_loss += loss.item()\n",
    "    if i % 2000 == 1999:\n",
    "      print('[%d, %5d] loss: %.3f' % (epoch+1, i+1, running_loss/2000))\n",
    "      running_loss = 0.0\n",
    "      \n",
    "print('Finished Training!')\n",
    "print(\"time :\", time.time() - start) "
   ]
  },
  {
   "cell_type": "code",
   "execution_count": 33,
   "metadata": {},
   "outputs": [
    {
     "name": "stdout",
     "output_type": "stream",
     "text": [
      "[1,  2000] loss: 1.880\n",
      "[1,  4000] loss: 1.603\n",
      "[1,  6000] loss: 1.510\n",
      "[1,  8000] loss: 1.446\n",
      "[1, 10000] loss: 1.381\n",
      "[1, 12000] loss: 1.386\n",
      "[2,  2000] loss: 1.301\n",
      "[2,  4000] loss: 1.279\n",
      "[2,  6000] loss: 1.253\n",
      "[2,  8000] loss: 1.260\n",
      "[2, 10000] loss: 1.256\n",
      "[2, 12000] loss: 1.250\n",
      "Finished Training!\n",
      "time : 736.4469220638275\n"
     ]
    }
   ],
   "source": [
    "optimizer = optim.Adam(net.parameters(), lr = 0.001, weight_decay = 1e-4)\n",
    "start = time.time()  # 시작 시간 저장\n",
    "for epoch in range(2):\n",
    "  \n",
    "  running_loss = 0.0\n",
    "  for i, data in enumerate(trainloader, 0):\n",
    "    inputs, labels = data\n",
    "    \n",
    "    optimizer.zero_grad()\n",
    "    \n",
    "    outputs = net(inputs)\n",
    "    loss = criterion(outputs, labels)\n",
    "    loss.backward()\n",
    "    optimizer.step()\n",
    "    \n",
    "    \n",
    "    running_loss += loss.item()\n",
    "    if i % 2000 == 1999:\n",
    "      print('[%d, %5d] loss: %.3f' % (epoch+1, i+1, running_loss/2000))\n",
    "      running_loss = 0.0\n",
    "      \n",
    "print('Finished Training!')\n",
    "print(\"time :\", time.time() - start) "
   ]
  },
  {
   "cell_type": "markdown",
   "metadata": {},
   "source": [
    "learning rate를 바꿔가면서 loss 추이를 관찰해보면 좋다!"
   ]
  },
  {
   "cell_type": "code",
   "execution_count": 12,
   "metadata": {
    "colab": {
     "base_uri": "https://localhost:8080/",
     "height": 156
    },
    "colab_type": "code",
    "executionInfo": {
     "elapsed": 86146,
     "status": "ok",
     "timestamp": 1563531015472,
     "user": {
      "displayName": "Inhwan Lee",
      "photoUrl": "https://lh5.googleusercontent.com/-5lUmIvfg1FQ/AAAAAAAAAAI/AAAAAAAAB20/zcaOdBSgGnE/s64/photo.jpg",
      "userId": "00207258631190759901"
     },
     "user_tz": -540
    },
    "id": "ZWfhMmxUs0gK",
    "outputId": "3aa33efb-43a5-4673-a355-d678f62a9141",
    "scrolled": true
   },
   "outputs": [
    {
     "name": "stdout",
     "output_type": "stream",
     "text": [
      "GroundTruth :    cat  bird  bird   cat\n"
     ]
    },
    {
     "data": {
      "image/png": "[encoded data removed]",
      "text/plain": [
       "<Figure size 432x288 with 1 Axes>"
      ]
     },
     "metadata": {
      "needs_background": "light"
     },
     "output_type": "display_data"
    }
   ],
   "source": [
    "dataiter = iter(testloader)\n",
    "images, labels = dataiter.next()\n",
    "\n",
    "imshow(torchvision.utils.make_grid(images))\n",
    "print('GroundTruth : ', ' '.join('%5s' % classes [labels[j]] for j in range(4)))"
   ]
  },
  {
   "cell_type": "code",
   "execution_count": 13,
   "metadata": {
    "colab": {},
    "colab_type": "code",
    "id": "XqteM_nJtKOo"
   },
   "outputs": [],
   "source": [
    "outputs = net(images)"
   ]
  },
  {
   "cell_type": "code",
   "execution_count": 14,
   "metadata": {
    "colab": {
     "base_uri": "https://localhost:8080/",
     "height": 34
    },
    "colab_type": "code",
    "executionInfo": {
     "elapsed": 45056,
     "status": "ok",
     "timestamp": 1563531015484,
     "user": {
      "displayName": "Inhwan Lee",
      "photoUrl": "https://lh5.googleusercontent.com/-5lUmIvfg1FQ/AAAAAAAAAAI/AAAAAAAAB20/zcaOdBSgGnE/s64/photo.jpg",
      "userId": "00207258631190759901"
     },
     "user_tz": -540
    },
    "id": "61Q856vPtMl3",
    "outputId": "a27fde09-53a7-47db-cdfb-0dc477a53dd0"
   },
   "outputs": [
    {
     "name": "stdout",
     "output_type": "stream",
     "text": [
      "Predicted:    cat   cat  deer   cat\n"
     ]
    }
   ],
   "source": [
    "_, predicted = torch.max(outputs, 1)\n",
    "\n",
    "print('Predicted: ', ' '.join('%5s' % classes[predicted[j]] for j in range(4)))"
   ]
  },
  {
   "cell_type": "code",
   "execution_count": 34,
   "metadata": {
    "colab": {
     "base_uri": "https://localhost:8080/",
     "height": 34
    },
    "colab_type": "code",
    "executionInfo": {
     "elapsed": 11022,
     "status": "ok",
     "timestamp": 1563531090841,
     "user": {
      "displayName": "Inhwan Lee",
      "photoUrl": "https://lh5.googleusercontent.com/-5lUmIvfg1FQ/AAAAAAAAAAI/AAAAAAAAB20/zcaOdBSgGnE/s64/photo.jpg",
      "userId": "00207258631190759901"
     },
     "user_tz": -540
    },
    "id": "bOwcT5bttURG",
    "outputId": "a1d2ac2a-d931-4818-cb47-43bfd26c8c2e"
   },
   "outputs": [
    {
     "name": "stdout",
     "output_type": "stream",
     "text": [
      "Accuracy of the network on the 10000 test images: 54 %\n"
     ]
    }
   ],
   "source": [
    "correct = 0\n",
    "total = 0\n",
    "with torch.no_grad():\n",
    "  for data in testloader:\n",
    "    images, labels = data\n",
    "    outputs = net(images)\n",
    "    _, predicted = torch.max(outputs.data, 1)\n",
    "    total += labels.size(0)\n",
    "    correct += (predicted == labels).sum().item()\n",
    "    \n",
    "print('Accuracy of the network on the 10000 test images: %d %%' % (100 * correct / total))    "
   ]
  },
  {
   "cell_type": "code",
   "execution_count": 35,
   "metadata": {
    "colab": {
     "base_uri": "https://localhost:8080/",
     "height": 187
    },
    "colab_type": "code",
    "executionInfo": {
     "elapsed": 11459,
     "status": "ok",
     "timestamp": 1563531244468,
     "user": {
      "displayName": "Inhwan Lee",
      "photoUrl": "https://lh5.googleusercontent.com/-5lUmIvfg1FQ/AAAAAAAAAAI/AAAAAAAAB20/zcaOdBSgGnE/s64/photo.jpg",
      "userId": "00207258631190759901"
     },
     "user_tz": -540
    },
    "id": "jEcM9Ziqtu9z",
    "outputId": "57d2c2e4-d7f1-49a2-fc65-f0d8607ab002"
   },
   "outputs": [
    {
     "name": "stdout",
     "output_type": "stream",
     "text": [
      "Accuracy of plane : 68 %\n",
      "Accuracy of   car : 58 %\n",
      "Accuracy of  bird : 30 %\n",
      "Accuracy of   cat : 23 %\n",
      "Accuracy of  deer : 61 %\n",
      "Accuracy of   dog : 34 %\n",
      "Accuracy of  frog : 71 %\n",
      "Accuracy of horse : 51 %\n",
      "Accuracy of  ship : 76 %\n",
      "Accuracy of truck : 70 %\n"
     ]
    }
   ],
   "source": [
    "class_correct = list(0. for i in range(10))\n",
    "class_total = list(0. for i in range(10))\n",
    "\n",
    "with torch.no_grad():\n",
    "  for data in testloader:\n",
    "    images, labels = data\n",
    "    outputs = net(images)\n",
    "    _, predicted = torch.max(outputs,1)\n",
    "    c = (predicted == labels).squeeze()\n",
    "    for i in range(4):\n",
    "      label = labels[i]\n",
    "      class_correct[label] += c[i].item()\n",
    "      class_total[label] += 1\n",
    "      \n",
    "for i in range(10):\n",
    "  print('Accuracy of %5s : %2d %%' % (classes[i], 100*class_correct[i]/class_total[i]))"
   ]
  },
  {
   "cell_type": "code",
   "execution_count": 17,
   "metadata": {
    "colab": {
     "base_uri": "https://localhost:8080/",
     "height": 34
    },
    "colab_type": "code",
    "executionInfo": {
     "elapsed": 730,
     "status": "ok",
     "timestamp": 1563531311022,
     "user": {
      "displayName": "Inhwan Lee",
      "photoUrl": "https://lh5.googleusercontent.com/-5lUmIvfg1FQ/AAAAAAAAAAI/AAAAAAAAB20/zcaOdBSgGnE/s64/photo.jpg",
      "userId": "00207258631190759901"
     },
     "user_tz": -540
    },
    "id": "lTEAHa06uUYA",
    "outputId": "cb31e321-6d63-4092-aade-ed228c777106"
   },
   "outputs": [
    {
     "data": {
      "text/plain": [
       "tensor([[1, 0, 3]])"
      ]
     },
     "execution_count": 17,
     "metadata": {},
     "output_type": "execute_result"
    }
   ],
   "source": [
    "l = torch.tensor([[1,0,3]])\n",
    "l"
   ]
  },
  {
   "cell_type": "code",
   "execution_count": 18,
   "metadata": {
    "colab": {
     "base_uri": "https://localhost:8080/",
     "height": 34
    },
    "colab_type": "code",
    "executionInfo": {
     "elapsed": 689,
     "status": "ok",
     "timestamp": 1563531312961,
     "user": {
      "displayName": "Inhwan Lee",
      "photoUrl": "https://lh5.googleusercontent.com/-5lUmIvfg1FQ/AAAAAAAAAAI/AAAAAAAAB20/zcaOdBSgGnE/s64/photo.jpg",
      "userId": "00207258631190759901"
     },
     "user_tz": -540
    },
    "id": "bk6PXNyFuatK",
    "outputId": "cedc55e3-8e5e-4daf-82f1-aabef35efcfb"
   },
   "outputs": [
    {
     "data": {
      "text/plain": [
       "tensor([1, 0, 3])"
      ]
     },
     "execution_count": 18,
     "metadata": {},
     "output_type": "execute_result"
    }
   ],
   "source": [
    "l.squeeze()"
   ]
  },
  {
   "cell_type": "code",
   "execution_count": 19,
   "metadata": {
    "colab": {
     "base_uri": "https://localhost:8080/",
     "height": 34
    },
    "colab_type": "code",
    "executionInfo": {
     "elapsed": 739,
     "status": "ok",
     "timestamp": 1563531460829,
     "user": {
      "displayName": "Inhwan Lee",
      "photoUrl": "https://lh5.googleusercontent.com/-5lUmIvfg1FQ/AAAAAAAAAAI/AAAAAAAAB20/zcaOdBSgGnE/s64/photo.jpg",
      "userId": "00207258631190759901"
     },
     "user_tz": -540
    },
    "id": "6MvJiRAWub9E",
    "outputId": "680dafd8-662d-424b-b68a-816e59fb7818"
   },
   "outputs": [
    {
     "name": "stdout",
     "output_type": "stream",
     "text": [
      "cuda:0\n"
     ]
    }
   ],
   "source": [
    "device = torch.device('cuda:0' if torch.cuda.is_available() else 'cpu')\n",
    "print(device)"
   ]
  },
  {
   "cell_type": "code",
   "execution_count": 20,
   "metadata": {
    "colab": {
     "base_uri": "https://localhost:8080/",
     "height": 193
    },
    "colab_type": "code",
    "executionInfo": {
     "elapsed": 8176,
     "status": "ok",
     "timestamp": 1563531508089,
     "user": {
      "displayName": "Inhwan Lee",
      "photoUrl": "https://lh5.googleusercontent.com/-5lUmIvfg1FQ/AAAAAAAAAAI/AAAAAAAAB20/zcaOdBSgGnE/s64/photo.jpg",
      "userId": "00207258631190759901"
     },
     "user_tz": -540
    },
    "id": "quOAfQ0TuvBa",
    "outputId": "2ec89e0f-cee3-44f5-f5f3-dfbe7e36e807"
   },
   "outputs": [
    {
     "data": {
      "text/plain": [
       "Net(\n",
       "  (conv1): Conv2d(3, 6, kernel_size=(5, 5), stride=(1, 1))\n",
       "  (pool): MaxPool2d(kernel_size=2, stride=2, padding=0, dilation=1, ceil_mode=False)\n",
       "  (conv2): Conv2d(6, 16, kernel_size=(5, 5), stride=(1, 1))\n",
       "  (fc1): Linear(in_features=400, out_features=120, bias=True)\n",
       "  (fc2): Linear(in_features=120, out_features=84, bias=True)\n",
       "  (fc3): Linear(in_features=84, out_features=10, bias=True)\n",
       ")"
      ]
     },
     "execution_count": 20,
     "metadata": {},
     "output_type": "execute_result"
    }
   ],
   "source": [
    "net.to(device)"
   ]
  },
  {
   "cell_type": "code",
   "execution_count": 21,
   "metadata": {
    "colab": {
     "base_uri": "https://localhost:8080/",
     "height": 238
    },
    "colab_type": "code",
    "executionInfo": {
     "elapsed": 103340,
     "status": "ok",
     "timestamp": 1563531655936,
     "user": {
      "displayName": "Inhwan Lee",
      "photoUrl": "https://lh5.googleusercontent.com/-5lUmIvfg1FQ/AAAAAAAAAAI/AAAAAAAAB20/zcaOdBSgGnE/s64/photo.jpg",
      "userId": "00207258631190759901"
     },
     "user_tz": -540
    },
    "id": "on28epoTvVhO",
    "outputId": "79718145-b3cb-47ad-af94-1e53854e0db3"
   },
   "outputs": [
    {
     "ename": "RuntimeError",
     "evalue": "expected backend CPU and dtype Float but got backend CUDA and dtype Float",
     "output_type": "error",
     "traceback": [
      "\u001b[1;31m---------------------------------------------------------------------------\u001b[0m",
      "\u001b[1;31mRuntimeError\u001b[0m                              Traceback (most recent call last)",
      "\u001b[1;32m<ipython-input-21-28de684da2e3>\u001b[0m in \u001b[0;36m<module>\u001b[1;34m\u001b[0m\n\u001b[0;32m     11\u001b[0m     \u001b[0mloss\u001b[0m \u001b[1;33m=\u001b[0m \u001b[0mcriterion\u001b[0m\u001b[1;33m(\u001b[0m\u001b[0moutputs\u001b[0m\u001b[1;33m,\u001b[0m \u001b[0mlabels\u001b[0m\u001b[1;33m)\u001b[0m\u001b[1;33m\u001b[0m\u001b[1;33m\u001b[0m\u001b[0m\n\u001b[0;32m     12\u001b[0m     \u001b[0mloss\u001b[0m\u001b[1;33m.\u001b[0m\u001b[0mbackward\u001b[0m\u001b[1;33m(\u001b[0m\u001b[1;33m)\u001b[0m\u001b[1;33m\u001b[0m\u001b[1;33m\u001b[0m\u001b[0m\n\u001b[1;32m---> 13\u001b[1;33m     \u001b[0moptimizer\u001b[0m\u001b[1;33m.\u001b[0m\u001b[0mstep\u001b[0m\u001b[1;33m(\u001b[0m\u001b[1;33m)\u001b[0m\u001b[1;33m\u001b[0m\u001b[1;33m\u001b[0m\u001b[0m\n\u001b[0m\u001b[0;32m     14\u001b[0m \u001b[1;33m\u001b[0m\u001b[0m\n\u001b[0;32m     15\u001b[0m \u001b[1;33m\u001b[0m\u001b[0m\n",
      "\u001b[1;32mG:\\Anaconda3\\envs\\PyTorch_ev\\lib\\site-packages\\torch\\optim\\sgd.py\u001b[0m in \u001b[0;36mstep\u001b[1;34m(self, closure)\u001b[0m\n\u001b[0;32m     98\u001b[0m                     \u001b[1;32melse\u001b[0m\u001b[1;33m:\u001b[0m\u001b[1;33m\u001b[0m\u001b[1;33m\u001b[0m\u001b[0m\n\u001b[0;32m     99\u001b[0m                         \u001b[0mbuf\u001b[0m \u001b[1;33m=\u001b[0m \u001b[0mparam_state\u001b[0m\u001b[1;33m[\u001b[0m\u001b[1;34m'momentum_buffer'\u001b[0m\u001b[1;33m]\u001b[0m\u001b[1;33m\u001b[0m\u001b[1;33m\u001b[0m\u001b[0m\n\u001b[1;32m--> 100\u001b[1;33m                         \u001b[0mbuf\u001b[0m\u001b[1;33m.\u001b[0m\u001b[0mmul_\u001b[0m\u001b[1;33m(\u001b[0m\u001b[0mmomentum\u001b[0m\u001b[1;33m)\u001b[0m\u001b[1;33m.\u001b[0m\u001b[0madd_\u001b[0m\u001b[1;33m(\u001b[0m\u001b[1;36m1\u001b[0m \u001b[1;33m-\u001b[0m \u001b[0mdampening\u001b[0m\u001b[1;33m,\u001b[0m \u001b[0md_p\u001b[0m\u001b[1;33m)\u001b[0m\u001b[1;33m\u001b[0m\u001b[1;33m\u001b[0m\u001b[0m\n\u001b[0m\u001b[0;32m    101\u001b[0m                     \u001b[1;32mif\u001b[0m \u001b[0mnesterov\u001b[0m\u001b[1;33m:\u001b[0m\u001b[1;33m\u001b[0m\u001b[1;33m\u001b[0m\u001b[0m\n\u001b[0;32m    102\u001b[0m                         \u001b[0md_p\u001b[0m \u001b[1;33m=\u001b[0m \u001b[0md_p\u001b[0m\u001b[1;33m.\u001b[0m\u001b[0madd\u001b[0m\u001b[1;33m(\u001b[0m\u001b[0mmomentum\u001b[0m\u001b[1;33m,\u001b[0m \u001b[0mbuf\u001b[0m\u001b[1;33m)\u001b[0m\u001b[1;33m\u001b[0m\u001b[1;33m\u001b[0m\u001b[0m\n",
      "\u001b[1;31mRuntimeError\u001b[0m: expected backend CPU and dtype Float but got backend CUDA and dtype Float"
     ]
    }
   ],
   "source": [
    "for epoch in range(2):\n",
    "  \n",
    "  running_loss = 0.0\n",
    "  for i, data in enumerate(trainloader, 0):\n",
    "    inputs, labels = data\n",
    "    inputs, labels = inputs.to(device), labels.to(device)\n",
    "    \n",
    "    optimizer.zero_grad()\n",
    "    \n",
    "    outputs = net(inputs)\n",
    "    loss = criterion(outputs, labels)\n",
    "    loss.backward()\n",
    "    optimizer.step()\n",
    "    \n",
    "    \n",
    "    running_loss += loss.item()\n",
    "    if i % 2000 == 1999:\n",
    "      print('[%d, %5d] loss: %.3f' % (epoch+1, i+1, running_loss/2000))\n",
    "      running_loss = 0.0\n",
    "      \n",
    "print('Finished Training!')"
   ]
  },
  {
   "cell_type": "code",
   "execution_count": 15,
   "metadata": {
    "colab": {
     "base_uri": "https://localhost:8080/",
     "height": 187
    },
    "colab_type": "code",
    "executionInfo": {
     "elapsed": 7961,
     "status": "ok",
     "timestamp": 1563531702957,
     "user": {
      "displayName": "Inhwan Lee",
      "photoUrl": "https://lh5.googleusercontent.com/-5lUmIvfg1FQ/AAAAAAAAAAI/AAAAAAAAB20/zcaOdBSgGnE/s64/photo.jpg",
      "userId": "00207258631190759901"
     },
     "user_tz": -540
    },
    "id": "E4S-o1AFvcTq",
    "outputId": "68a113ec-c69e-43d5-d25b-25cd47029549"
   },
   "outputs": [
    {
     "name": "stdout",
     "output_type": "stream",
     "text": [
      "Accuracy of plane : 70 %\n",
      "Accuracy of   car : 61 %\n",
      "Accuracy of  bird : 57 %\n",
      "Accuracy of   cat : 37 %\n",
      "Accuracy of  deer : 17 %\n",
      "Accuracy of   dog : 28 %\n",
      "Accuracy of  frog : 74 %\n",
      "Accuracy of horse : 65 %\n",
      "Accuracy of  ship : 62 %\n",
      "Accuracy of truck : 65 %\n"
     ]
    }
   ],
   "source": [
    "class_correct = list(0. for i in range(10))\n",
    "class_total = list(0. for i in range(10))\n",
    "\n",
    "with torch.no_grad():\n",
    "  for data in testloader:\n",
    "    images, labels = data\n",
    "    images, labels = images.to(device), labels.to(device)\n",
    "    outputs = net(images)\n",
    "    _, predicted = torch.max(outputs,1)\n",
    "    c = (predicted == labels).squeeze()\n",
    "    for i in range(4):\n",
    "      label = labels[i]\n",
    "      class_correct[label] += c[i].item()\n",
    "      class_total[label] += 1\n",
    "      \n",
    "for i in range(10):\n",
    "  print('Accuracy of %5s : %2d %%' % (classes[i], 100*class_correct[i]/class_total[i]))"
   ]
  },
  {
   "cell_type": "code",
   "execution_count": 0,
   "metadata": {
    "colab": {},
    "colab_type": "code",
    "id": "HUVhlxKFwA5E"
   },
   "outputs": [],
   "source": []
  }
 ],
 "metadata": {
  "accelerator": "GPU",
  "colab": {
   "collapsed_sections": [],
   "name": "PyTorch Tutorial.ipynb",
   "provenance": [],
   "version": "0.3.2"
  },
  "kernelspec": {
   "display_name": "Python 3",
   "language": "python",
   "name": "python3"
  },
  "language_info": {
   "codemirror_mode": {
    "name": "ipython",
    "version": 3
   },
   "file_extension": ".py",
   "mimetype": "text/x-python",
   "name": "python",
   "nbconvert_exporter": "python",
   "pygments_lexer": "ipython3",
   "version": "3.7.3"
  }
 },
 "nbformat": 4,
 "nbformat_minor": 1
}
