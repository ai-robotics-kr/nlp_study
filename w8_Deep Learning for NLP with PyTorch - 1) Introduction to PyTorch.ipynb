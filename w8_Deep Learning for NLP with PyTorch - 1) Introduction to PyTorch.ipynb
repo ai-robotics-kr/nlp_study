{
 "cells": [
  {
   "cell_type": "code",
   "execution_count": 1,
   "metadata": {},
   "outputs": [],
   "source": [
    "%matplotlib inline"
   ]
  },
  {
   "cell_type": "markdown",
   "metadata": {},
   "source": [
    "\n",
    "Introduction to PyTorch\n",
    "***********************\n",
    "\n",
    "Introduction to Torch's tensor library\n",
    "======================================\n",
    "\n",
    "All of deep learning is computations on tensors, which are\n",
    "generalizations of a matrix that can be indexed in more than 2\n",
    "dimensions. We will see exactly what this means in-depth later. First,\n",
    "lets look what we can do with tensors.\n",
    "\n"
   ]
  },
  {
   "cell_type": "code",
   "execution_count": 2,
   "metadata": {},
   "outputs": [
    {
     "data": {
      "text/plain": [
       "<torch._C.Generator at 0x2958025a3b0>"
      ]
     },
     "execution_count": 2,
     "metadata": {},
     "output_type": "execute_result"
    }
   ],
   "source": [
    "# Author: Robert Guthrie\n",
    "\n",
    "import torch\n",
    "import torch.autograd as autograd\n",
    "import torch.nn as nn\n",
    "import torch.nn.functional as F\n",
    "import torch.optim as optim\n",
    "\n",
    "torch.manual_seed(1)"
   ]
  },
  {
   "cell_type": "markdown",
   "metadata": {},
   "source": [
    "Creating Tensors\n",
    "~~~~~~~~~~~~~~~~\n",
    "\n",
    "Tensors can be created from Python lists with the torch.Tensor()\n",
    "function.\n",
    "\n",
    "\n"
   ]
  },
  {
   "cell_type": "code",
   "execution_count": 3,
   "metadata": {},
   "outputs": [
    {
     "name": "stdout",
     "output_type": "stream",
     "text": [
      "tensor([1., 2., 3.])\n",
      "tensor([[1., 2., 3.],\n",
      "        [4., 5., 6.]])\n",
      "tensor([[[1., 2.],\n",
      "         [3., 4.]],\n",
      "\n",
      "        [[5., 6.],\n",
      "         [7., 8.]]])\n"
     ]
    }
   ],
   "source": [
    "# torch.tensor(data) creates a torch.Tensor object with the given data.\n",
    "V_data = [1., 2., 3.]\n",
    "V = torch.tensor(V_data)\n",
    "print(V)\n",
    "\n",
    "# Creates a matrix\n",
    "M_data = [[1., 2., 3.], [4., 5., 6]]\n",
    "M = torch.tensor(M_data)\n",
    "print(M)\n",
    "\n",
    "# Create a 3D tensor of size 2x2x2.\n",
    "T_data = [[[1., 2.], [3., 4.]],\n",
    "          [[5., 6.], [7., 8.]]]\n",
    "T = torch.tensor(T_data)\n",
    "print(T)"
   ]
  },
  {
   "cell_type": "markdown",
   "metadata": {},
   "source": [
    "What is a 3D tensor anyway? Think about it like this. If you have a\n",
    "vector, indexing into the vector gives you a scalar. If you have a\n",
    "matrix, indexing into the matrix gives you a vector. If you have a 3D\n",
    "tensor, then indexing into the tensor gives you a matrix!\n",
    "\n",
    "A note on terminology:\n",
    "when I say \"tensor\" in this tutorial, it refers\n",
    "to any torch.Tensor object. Matrices and vectors are special cases of\n",
    "torch.Tensors, where their dimension is 1 and 2 respectively. When I am\n",
    "talking about 3D tensors, I will explicitly use the term \"3D tensor\".\n",
    "\n",
    "\n"
   ]
  },
  {
   "cell_type": "code",
   "execution_count": 4,
   "metadata": {},
   "outputs": [
    {
     "name": "stdout",
     "output_type": "stream",
     "text": [
      "tensor(1.)\n",
      "1.0\n",
      "tensor([1., 2., 3.])\n",
      "tensor([[1., 2.],\n",
      "        [3., 4.]])\n"
     ]
    }
   ],
   "source": [
    "# Index into V and get a scalar (0 dimensional tensor)\n",
    "print(V[0])\n",
    "# Get a Python number from it\n",
    "print(V[0].item())\n",
    "\n",
    "# Index into M and get a vector\n",
    "print(M[0])\n",
    "\n",
    "# Index into T and get a matrix\n",
    "print(T[0])"
   ]
  },
  {
   "cell_type": "markdown",
   "metadata": {},
   "source": [
    "You can also create tensors of other datatypes. The default, as you can\n",
    "see, is Float. To create a tensor of integer types, try\n",
    "torch.LongTensor(). Check the documentation for more data types, but\n",
    "Float and Long will be the most common.\n",
    "\n",
    "\n"
   ]
  },
  {
   "cell_type": "markdown",
   "metadata": {},
   "source": [
    "You can create a tensor with random data and the supplied dimensionality\n",
    "with torch.randn()\n",
    "\n",
    "\n"
   ]
  },
  {
   "cell_type": "code",
   "execution_count": 6,
   "metadata": {},
   "outputs": [
    {
     "name": "stdout",
     "output_type": "stream",
     "text": [
      "torch.float32 tensor([[[ 0.4100,  0.4085,  0.2579,  1.0950, -0.5065],\n",
      "         [ 0.0998, -0.6540,  0.7317, -1.4567,  1.6089],\n",
      "         [ 0.0938, -1.2597,  0.2546, -0.5020, -1.0412],\n",
      "         [ 0.7323,  1.3075, -1.1628,  0.1196, -0.1631]],\n",
      "\n",
      "        [[ 0.6614,  1.1899,  0.8165, -0.9135, -0.3538],\n",
      "         [ 0.7639, -0.5890, -0.7636,  1.3352,  0.6043],\n",
      "         [-0.1034, -0.1512,  1.2466,  0.5057,  0.9505],\n",
      "         [ 1.2966,  0.8738, -0.5603,  1.2858,  0.8168]],\n",
      "\n",
      "        [[-1.4648, -1.2629,  1.1220,  1.5663, -1.0371],\n",
      "         [-1.0669, -0.2085, -0.2155,  0.2705,  0.5597],\n",
      "         [-0.3184,  1.5117, -1.5208,  0.9196, -0.5484],\n",
      "         [-0.3472, -0.7474, -0.9234,  0.5734, -0.1093]]])\n"
     ]
    }
   ],
   "source": [
    "x = torch.randn((3, 4, 5))\n",
    "print(x.dtype, x)"
   ]
  },
  {
   "cell_type": "markdown",
   "metadata": {},
   "source": [
    "Operations with Tensors\n",
    "~~~~~~~~~~~~~~~~~~~~~~~\n",
    "\n",
    "You can operate on tensors in the ways you would expect.\n",
    "\n"
   ]
  },
  {
   "cell_type": "code",
   "execution_count": null,
   "metadata": {},
   "outputs": [],
   "source": [
    "x = torch.tensor([1., 2., 3.])\n",
    "y = torch.tensor([4., 5., 6.])\n",
    "z = x + y\n",
    "print(z)"
   ]
  },
  {
   "cell_type": "markdown",
   "metadata": {},
   "source": [
    "See `the documentation <https://pytorch.org/docs/torch.html>`__ for a\n",
    "complete list of the massive number of operations available to you. They\n",
    "expand beyond just mathematical operations.\n",
    "\n",
    "One helpful operation that we will make use of later is concatenation.\n",
    "\n",
    "\n"
   ]
  },
  {
   "cell_type": "code",
   "execution_count": 7,
   "metadata": {},
   "outputs": [
    {
     "name": "stdout",
     "output_type": "stream",
     "text": [
      "tensor([[-0.6933, -0.1668, -0.9999, -1.6476,  0.8098],\n",
      "        [ 0.0554,  1.1340, -0.5326,  0.6592, -1.5964]]) tensor([[-3.7687e-01, -3.1020e+00, -9.9467e-02, -7.2126e-01,  1.2708e+00],\n",
      "        [-2.0225e-03, -1.0952e+00,  6.0165e-01,  6.9841e-01, -8.0052e-01],\n",
      "        [ 1.5381e+00,  1.4673e+00,  1.5951e+00, -1.5279e+00,  1.0156e+00]]) tensor([[-6.9328e-01, -1.6676e-01, -9.9988e-01, -1.6476e+00,  8.0983e-01],\n",
      "        [ 5.5424e-02,  1.1340e+00, -5.3264e-01,  6.5921e-01, -1.5964e+00],\n",
      "        [-3.7687e-01, -3.1020e+00, -9.9467e-02, -7.2126e-01,  1.2708e+00],\n",
      "        [-2.0225e-03, -1.0952e+00,  6.0165e-01,  6.9841e-01, -8.0052e-01],\n",
      "        [ 1.5381e+00,  1.4673e+00,  1.5951e+00, -1.5279e+00,  1.0156e+00]])\n"
     ]
    }
   ],
   "source": [
    "# By default, it concatenates along the first axis (concatenates rows)\n",
    "x_1 = torch.randn(2, 5)\n",
    "y_1 = torch.randn(3, 5)\n",
    "z_1 = torch.cat([x_1, y_1])\n",
    "print(x_1, y_1, z_1)"
   ]
  },
  {
   "cell_type": "code",
   "execution_count": 10,
   "metadata": {},
   "outputs": [
    {
     "name": "stdout",
     "output_type": "stream",
     "text": [
      "tensor([[-0.0412, -0.1775, -0.5000],\n",
      "        [ 0.8673, -0.2732, -0.4608]]) tensor([[-0.0991,  0.4728,  1.0049, -0.2871, -1.1619],\n",
      "        [ 0.0276,  0.5652, -0.0115,  0.6706, -0.4929]]) tensor([[-0.0412, -0.1775, -0.5000, -0.0991,  0.4728,  1.0049, -0.2871, -1.1619],\n",
      "        [ 0.8673, -0.2732, -0.4608,  0.0276,  0.5652, -0.0115,  0.6706, -0.4929]])\n"
     ]
    }
   ],
   "source": [
    "# Concatenate columns:\n",
    "x_2 = torch.randn(2, 3)\n",
    "y_2 = torch.randn(2, 5)\n",
    "# second arg specifies which axis to concat along\n",
    "z_2 = torch.cat([x_2, y_2], 1)\n",
    "print(x_2, y_2, z_2)\n",
    "\n",
    "# If your tensors are not compatible, torch will complain.  Uncomment to see the error\n",
    "# torch.cat([x_1, x_2])"
   ]
  },
  {
   "cell_type": "markdown",
   "metadata": {},
   "source": [
    "Reshaping Tensors\n",
    "~~~~~~~~~~~~~~~~~\n",
    "\n",
    "Use the .view() method to reshape a tensor. This method receives heavy\n",
    "use, because many neural network components expect their inputs to have\n",
    "a certain shape. Often you will need to reshape before passing your data\n",
    "to the component.\n",
    "\n",
    "\n"
   ]
  },
  {
   "cell_type": "code",
   "execution_count": 13,
   "metadata": {},
   "outputs": [
    {
     "name": "stdout",
     "output_type": "stream",
     "text": [
      "tensor([[[-0.8262, -0.2221, -1.7949,  0.7299],\n",
      "         [-0.5619, -0.1579,  1.5043, -1.3950],\n",
      "         [-0.2890,  0.1522, -0.2980, -0.1314]],\n",
      "\n",
      "        [[ 1.5365,  0.9193,  0.3453, -0.5506],\n",
      "         [-0.9604,  0.2769, -0.6801, -0.5458],\n",
      "         [ 1.1528, -0.3997,  0.9738,  1.5453]]])\n",
      "tensor([[-0.8262, -0.2221, -1.7949,  0.7299, -0.5619, -0.1579,  1.5043, -1.3950,\n",
      "         -0.2890,  0.1522, -0.2980, -0.1314],\n",
      "        [ 1.5365,  0.9193,  0.3453, -0.5506, -0.9604,  0.2769, -0.6801, -0.5458,\n",
      "          1.1528, -0.3997,  0.9738,  1.5453]])\n",
      "tensor([[-0.8262, -0.2221, -1.7949,  0.7299, -0.5619, -0.1579,  1.5043, -1.3950,\n",
      "         -0.2890,  0.1522, -0.2980, -0.1314],\n",
      "        [ 1.5365,  0.9193,  0.3453, -0.5506, -0.9604,  0.2769, -0.6801, -0.5458,\n",
      "          1.1528, -0.3997,  0.9738,  1.5453]])\n"
     ]
    }
   ],
   "source": [
    "x = torch.randn(2, 3, 4)\n",
    "print(x)\n",
    "print(x.view(2, 12))  # Reshape to 2 rows, 12 columns\n",
    "# Same as above.  If one of the dimensions is -1, its size can be inferred\n",
    "print(x.view(2, -1))"
   ]
  },
  {
   "cell_type": "markdown",
   "metadata": {},
   "source": [
    "Computation Graphs and Automatic Differentiation\n",
    "================================================\n",
    "\n",
    "The concept of a computation graph is essential to efficient deep\n",
    "learning programming, because it allows you to not have to write the\n",
    "back propagation gradients yourself. A computation graph is simply a\n",
    "specification of how your data is combined to give you the output. Since\n",
    "the graph totally specifies what parameters were involved with which\n",
    "operations, it contains enough information to compute derivatives. This\n",
    "probably sounds vague, so let's see what is going on using the\n",
    "fundamental flag ``requires_grad``.\n",
    "\n",
    "First, think from a programmers perspective. What is stored in the\n",
    "torch.Tensor objects we were creating above? Obviously the data and the\n",
    "shape, and maybe a few other things. But when we added two tensors\n",
    "together, we got an output tensor. All this output tensor knows is its\n",
    "data and shape. It has no idea that it was the sum of two other tensors\n",
    "(it could have been read in from a file, it could be the result of some\n",
    "other operation, etc.)\n",
    "\n",
    "If ``requires_grad=True``, the Tensor object keeps track of how it was\n",
    "created. Lets see it in action.\n",
    "\n",
    "\n"
   ]
  },
  {
   "cell_type": "code",
   "execution_count": 14,
   "metadata": {},
   "outputs": [
    {
     "name": "stdout",
     "output_type": "stream",
     "text": [
      "tensor([5., 7., 9.], grad_fn=<AddBackward0>)\n",
      "<AddBackward0 object at 0x00000295817170C8>\n"
     ]
    }
   ],
   "source": [
    "# Tensor factory methods have a ``requires_grad`` flag\n",
    "x = torch.tensor([1., 2., 3], requires_grad=True)\n",
    "\n",
    "# With requires_grad=True, you can still do all the operations you previously\n",
    "# could\n",
    "y = torch.tensor([4., 5., 6], requires_grad=True)\n",
    "z = x + y\n",
    "print(z)\n",
    "\n",
    "# BUT z knows something extra.\n",
    "print(z.grad_fn)"
   ]
  },
  {
   "cell_type": "markdown",
   "metadata": {},
   "source": [
    "So Tensors know what created them. z knows that it wasn't read in from\n",
    "a file, it wasn't the result of a multiplication or exponential or\n",
    "whatever. And if you keep following z.grad_fn, you will find yourself at\n",
    "x and y.\n",
    "\n",
    "But how does that help us compute a gradient?\n",
    "\n",
    "\n"
   ]
  },
  {
   "cell_type": "code",
   "execution_count": 15,
   "metadata": {},
   "outputs": [
    {
     "name": "stdout",
     "output_type": "stream",
     "text": [
      "tensor(21., grad_fn=<SumBackward0>)\n",
      "<SumBackward0 object at 0x00000295817171C8>\n"
     ]
    }
   ],
   "source": [
    "# Lets sum up all the entries in z\n",
    "s = z.sum()\n",
    "print(s)\n",
    "print(s.grad_fn)"
   ]
  },
  {
   "cell_type": "markdown",
   "metadata": {},
   "source": [
    "So now, what is the derivative of this sum with respect to the first\n",
    "component of x? In math, we want\n",
    "\n",
    "\\begin{align}\\frac{\\partial s}{\\partial x_0}\\end{align}\n",
    "\n",
    "\n",
    "\n",
    "Well, s knows that it was created as a sum of the tensor z. z knows\n",
    "that it was the sum x + y. So\n",
    "\n",
    "\\begin{align}s = \\overbrace{x_0 + y_0}^\\text{$z_0$} + \\overbrace{x_1 + y_1}^\\text{$z_1$} + \\overbrace{x_2 + y_2}^\\text{$z_2$}\\end{align}\n",
    "\n",
    "And so s contains enough information to determine that the derivative\n",
    "we want is 1!\n",
    "\n",
    "Of course this glosses over the challenge of how to actually compute\n",
    "that derivative. The point here is that s is carrying along enough\n",
    "information that it is possible to compute it. In reality, the\n",
    "developers of Pytorch program the sum() and + operations to know how to\n",
    "compute their gradients, and run the back propagation algorithm. An\n",
    "in-depth discussion of that algorithm is beyond the scope of this\n",
    "tutorial.\n",
    "\n",
    "\n"
   ]
  },
  {
   "cell_type": "markdown",
   "metadata": {},
   "source": [
    "Lets have Pytorch compute the gradient, and see that we were right:\n",
    "(note if you run this block multiple times, the gradient will increment.\n",
    "That is because Pytorch *accumulates* the gradient into the .grad\n",
    "property, since for many models this is very convenient.)\n",
    "\n",
    "\n"
   ]
  },
  {
   "cell_type": "code",
   "execution_count": 16,
   "metadata": {},
   "outputs": [
    {
     "name": "stdout",
     "output_type": "stream",
     "text": [
      "tensor([1., 1., 1.])\n"
     ]
    }
   ],
   "source": [
    "# calling .backward() on any variable will run backprop, starting from it.\n",
    "s.backward()\n",
    "print(x.grad)"
   ]
  },
  {
   "cell_type": "markdown",
   "metadata": {},
   "source": [
    "Understanding what is going on in the block below is crucial for being a\n",
    "successful programmer in deep learning.\n",
    "\n",
    "\n"
   ]
  },
  {
   "cell_type": "code",
   "execution_count": 17,
   "metadata": {},
   "outputs": [
    {
     "name": "stdout",
     "output_type": "stream",
     "text": [
      "False False\n",
      "None\n",
      "<AddBackward0 object at 0x00000295817171C8>\n",
      "True\n",
      "None\n"
     ]
    }
   ],
   "source": [
    "x = torch.randn(2, 2)\n",
    "y = torch.randn(2, 2)\n",
    "# By default, user created Tensors have ``requires_grad=False``\n",
    "print(x.requires_grad, y.requires_grad)\n",
    "z = x + y\n",
    "# So you can't backprop through z\n",
    "print(z.grad_fn)\n",
    "\n",
    "# ``.requires_grad_( ... )`` changes an existing Tensor's ``requires_grad``\n",
    "# flag in-place. The input flag defaults to ``True`` if not given.\n",
    "x = x.requires_grad_()\n",
    "y = y.requires_grad_()\n",
    "# z contains enough information to compute gradients, as we saw above\n",
    "z = x + y\n",
    "print(z.grad_fn)\n",
    "# If any input to an operation has ``requires_grad=True``, so will the output\n",
    "print(z.requires_grad)\n",
    "\n",
    "# Now z has the computation history that relates itself to x and y\n",
    "# Can we just take its values, and **detach** it from its history?\n",
    "new_z = z.detach()\n",
    "\n",
    "# ... does new_z have information to backprop to x and y?\n",
    "# NO!\n",
    "print(new_z.grad_fn)\n",
    "# And how could it? ``z.detach()`` returns a tensor that shares the same storage\n",
    "# as ``z``, but with the computation history forgotten. It doesn't know anything\n",
    "# about how it was computed.\n",
    "# In essence, we have broken the Tensor away from its past history"
   ]
  },
  {
   "cell_type": "code",
   "execution_count": 18,
   "metadata": {},
   "outputs": [
    {
     "data": {
      "text/plain": [
       "(tensor([[ 3.1031, -1.3144],\n",
       "         [-2.6759,  0.8260]], grad_fn=<AddBackward0>),\n",
       " tensor([[ 3.1031, -1.3144],\n",
       "         [-2.6759,  0.8260]]))"
      ]
     },
     "execution_count": 18,
     "metadata": {},
     "output_type": "execute_result"
    }
   ],
   "source": [
    "z, new_z"
   ]
  },
  {
   "cell_type": "code",
   "execution_count": 20,
   "metadata": {},
   "outputs": [
    {
     "data": {
      "text/plain": [
       "tensor([[ 4.1031, -0.3144],\n",
       "        [-1.6759,  1.8260]], grad_fn=<AddBackward0>)"
      ]
     },
     "execution_count": 20,
     "metadata": {},
     "output_type": "execute_result"
    }
   ],
   "source": [
    "z = z + 1\n",
    "z"
   ]
  },
  {
   "cell_type": "code",
   "execution_count": 21,
   "metadata": {},
   "outputs": [
    {
     "data": {
      "text/plain": [
       "(tensor([[ 4.1031, -0.3144],\n",
       "         [-1.6759,  1.8260]], grad_fn=<AddBackward0>),\n",
       " tensor([[ 3.1031, -1.3144],\n",
       "         [-2.6759,  0.8260]]))"
      ]
     },
     "execution_count": 21,
     "metadata": {},
     "output_type": "execute_result"
    }
   ],
   "source": [
    "z, new_z"
   ]
  },
  {
   "cell_type": "markdown",
   "metadata": {},
   "source": [
    "You can also stop autograd from tracking history on Tensors\n",
    "with ``.requires_grad``=True by wrapping the code block in\n",
    "``with torch.no_grad():``\n",
    "\n"
   ]
  },
  {
   "cell_type": "code",
   "execution_count": 22,
   "metadata": {},
   "outputs": [
    {
     "name": "stdout",
     "output_type": "stream",
     "text": [
      "True\n",
      "True\n",
      "False\n"
     ]
    }
   ],
   "source": [
    "print(x.requires_grad)\n",
    "print((x ** 2).requires_grad)\n",
    "\n",
    "with torch.no_grad():\n",
    "\tprint((x ** 2).requires_grad)"
   ]
  },
  {
   "cell_type": "code",
   "execution_count": null,
   "metadata": {},
   "outputs": [],
   "source": []
  }
 ],
 "metadata": {
  "kernelspec": {
   "display_name": "Python 3",
   "language": "python",
   "name": "python3"
  },
  "language_info": {
   "codemirror_mode": {
    "name": "ipython",
    "version": 3
   },
   "file_extension": ".py",
   "mimetype": "text/x-python",
   "name": "python",
   "nbconvert_exporter": "python",
   "pygments_lexer": "ipython3",
   "version": "3.7.4"
  }
 },
 "nbformat": 4,
 "nbformat_minor": 1
}
